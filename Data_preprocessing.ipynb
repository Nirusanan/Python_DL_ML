{
  "nbformat": 4,
  "nbformat_minor": 0,
  "metadata": {
    "colab": {
      "provenance": []
    },
    "kernelspec": {
      "name": "python3",
      "display_name": "Python 3"
    },
    "language_info": {
      "name": "python"
    }
  },
  "cells": [
    {
      "cell_type": "code",
      "execution_count": null,
      "metadata": {
        "id": "tNT1VFg2g4B2"
      },
      "outputs": [],
      "source": [
        "import pandas as pd"
      ]
    },
    {
      "cell_type": "code",
      "source": [
        "# Create a sample dataframe\n",
        "data = {\n",
        "    'A': [1, 2, 3, 10, 20, 30, 100],\n",
        "    'B': [4, 5, 6, 50, 60, 70, 200],\n",
        "    'C': [7, 8, 9, 90, 100, 110, 300]\n",
        "}\n",
        "\n",
        "dataframe = pd.DataFrame(data)\n",
        "print(dataframe)"
      ],
      "metadata": {
        "colab": {
          "base_uri": "https://localhost:8080/"
        },
        "id": "-6hNmpatqBj5",
        "outputId": "36a009c5-f7cb-4b68-f5fd-49e1fb0a6d7f"
      },
      "execution_count": null,
      "outputs": [
        {
          "output_type": "stream",
          "name": "stdout",
          "text": [
            "     A    B    C\n",
            "0    1    4    7\n",
            "1    2    5    8\n",
            "2    3    6    9\n",
            "3   10   50   90\n",
            "4   20   60  100\n",
            "5   30   70  110\n",
            "6  100  200  300\n"
          ]
        }
      ]
    },
    {
      "cell_type": "code",
      "source": [
        "df = pd.read_csv('business.retailsales.csv')"
      ],
      "metadata": {
        "id": "qve-gHj1jLhm"
      },
      "execution_count": null,
      "outputs": []
    },
    {
      "cell_type": "code",
      "source": [
        "print(df.shape)\n",
        "print(df.columns)\n",
        "print(df.info())\n",
        "print(df.describe())\n",
        "print(df.groupby('Product Type').size())"
      ],
      "metadata": {
        "colab": {
          "base_uri": "https://localhost:8080/"
        },
        "id": "bQRn9z8djLkx",
        "outputId": "6b87e7c6-0b34-4d72-d307-3454eef765ec"
      },
      "execution_count": null,
      "outputs": [
        {
          "output_type": "stream",
          "name": "stdout",
          "text": [
            "(1775, 6)\n",
            "Index(['Product Type', 'Net Quantity', 'Gross Sales', 'Discounts', 'Returns',\n",
            "       'Total Net Sales'],\n",
            "      dtype='object')\n",
            "<class 'pandas.core.frame.DataFrame'>\n",
            "RangeIndex: 1775 entries, 0 to 1774\n",
            "Data columns (total 6 columns):\n",
            " #   Column           Non-Null Count  Dtype  \n",
            "---  ------           --------------  -----  \n",
            " 0   Product Type     1767 non-null   object \n",
            " 1   Net Quantity     1775 non-null   int64  \n",
            " 2   Gross Sales      1775 non-null   float64\n",
            " 3   Discounts        1775 non-null   float64\n",
            " 4   Returns          1775 non-null   float64\n",
            " 5   Total Net Sales  1775 non-null   float64\n",
            "dtypes: float64(4), int64(1), object(1)\n",
            "memory usage: 83.3+ KB\n",
            "None\n",
            "       Net Quantity   Gross Sales    Discounts      Returns  Total Net Sales\n",
            "count   1775.000000   1775.000000  1775.000000  1775.000000      1775.000000\n",
            "mean       3.712676    199.671746    -6.317623    -5.385437       187.968687\n",
            "std        6.243078    464.880638    20.903517    46.654269       414.547039\n",
            "min       -1.000000      0.000000  -594.000000 -1609.000000      -106.250000\n",
            "25%        1.000000     48.000000    -6.000000     0.000000        44.800000\n",
            "50%        2.000000    100.000000     0.000000     0.000000        96.000000\n",
            "75%        4.000000    185.500000     0.000000     0.000000       184.750000\n",
            "max       96.000000  14935.000000     0.000000     0.000000     12732.000000\n",
            "Product Type\n",
            "Accessories          39\n",
            "Art & Sculpture     337\n",
            "Basket              551\n",
            "Christmas            73\n",
            "Easter                1\n",
            "Fair Trade Gifts     28\n",
            "Furniture            16\n",
            "Gift Baskets          1\n",
            "Home Decor          131\n",
            "Jewelry             210\n",
            "Kids                 63\n",
            "Kitchen             161\n",
            "Music                29\n",
            "One-of-a-Kind        12\n",
            "Recycled Art         23\n",
            "Skin Care            11\n",
            "Soapstone            67\n",
            "Textiles             14\n",
            "dtype: int64\n"
          ]
        }
      ]
    },
    {
      "cell_type": "code",
      "source": [
        "print(df.head(5))"
      ],
      "metadata": {
        "colab": {
          "base_uri": "https://localhost:8080/"
        },
        "id": "XKNmwVq3jLqA",
        "outputId": "d1100e83-4381-419a-bc1b-143e072184ab"
      },
      "execution_count": null,
      "outputs": [
        {
          "output_type": "stream",
          "name": "stdout",
          "text": [
            "      Product Type  Net Quantity  Gross Sales  Discounts  Returns  \\\n",
            "0  Art & Sculpture            34      14935.0    -594.00  -1609.0   \n",
            "1           Basket            13       3744.0    -316.80      0.0   \n",
            "2           Basket            12       3825.0    -201.60   -288.0   \n",
            "3           Basket            17       3035.0     -63.25      0.0   \n",
            "4  Art & Sculpture            47       2696.8     -44.16      0.0   \n",
            "\n",
            "   Total Net Sales  \n",
            "0         12732.00  \n",
            "1          3427.20  \n",
            "2          3335.40  \n",
            "3          2971.75  \n",
            "4          2652.64  \n"
          ]
        }
      ]
    },
    {
      "cell_type": "code",
      "source": [
        "#finding null values\n",
        "a = df.isnull().sum()\n",
        "print('Show null values coulmns:')\n",
        "print(a)\n",
        "print('')\n",
        "\n",
        "# Dropping null value columns which cross the threshold\n",
        "b =  a[a>(0.05*len(a))]\n",
        "print (b)\n",
        "df = df.drop(b.index, axis=1)\n",
        "print (df.shape)"
      ],
      "metadata": {
        "colab": {
          "base_uri": "https://localhost:8080/"
        },
        "id": "TqvZjXEsjLsX",
        "outputId": "59c09230-119c-4ca7-cef0-b859a74e3f04"
      },
      "execution_count": null,
      "outputs": [
        {
          "output_type": "stream",
          "name": "stdout",
          "text": [
            "Show null values coulmns:\n",
            "Product Type       8\n",
            "Net Quantity       0\n",
            "Gross Sales        0\n",
            "Discounts          0\n",
            "Returns            0\n",
            "Total Net Sales    0\n",
            "dtype: int64\n",
            "\n",
            "Product Type    8\n",
            "dtype: int64\n",
            "(1775, 5)\n"
          ]
        }
      ]
    },
    {
      "cell_type": "code",
      "source": [
        "df.columns"
      ],
      "metadata": {
        "colab": {
          "base_uri": "https://localhost:8080/"
        },
        "id": "kX4TJ-0BjL1e",
        "outputId": "a8485dda-ef8c-45be-edd5-2d728a1a6cd1"
      },
      "execution_count": null,
      "outputs": [
        {
          "output_type": "execute_result",
          "data": {
            "text/plain": [
              "Index(['Net Quantity', 'Gross Sales', 'Discounts', 'Returns',\n",
              "       'Total Net Sales'],\n",
              "      dtype='object')"
            ]
          },
          "metadata": {},
          "execution_count": 7
        }
      ]
    },
    {
      "cell_type": "code",
      "source": [
        "# Replacing null value columns (int, float) with most used value\n",
        "a2 = df.select_dtypes(include=['integer','float']).isnull().sum()\n",
        "print('Find missing int/float value columns')\n",
        "print (a2)\n",
        "print('')\n",
        "\n",
        "b2 = a2[a2!=0].index \n",
        "print (b2)\n",
        "# Check if the column has missing values\n",
        "if b2.isnull():\n",
        "    # Get the mode value for the column 'B'\n",
        "    mode_value = df[b2].mode()\n",
        "\n",
        "    # Check if the mode value exists\n",
        "    if len(mode_value) > 0:\n",
        "        # Fill missing values with the mode value\n",
        "        print('Replacing null value columns')\n",
        "        df = df.fillna(mode_value[0])\n",
        "\n",
        "# Print the updated DataFrame\n",
        "print(df)"
      ],
      "metadata": {
        "colab": {
          "base_uri": "https://localhost:8080/"
        },
        "id": "9k_SkN3mjMJB",
        "outputId": "58ac34bf-133c-4ee1-a52e-41b0b58a0fe9"
      },
      "execution_count": null,
      "outputs": [
        {
          "output_type": "stream",
          "name": "stdout",
          "text": [
            "Find missing int/float value columns\n",
            "Net Quantity       0\n",
            "Gross Sales        0\n",
            "Discounts          0\n",
            "Returns            0\n",
            "Total Net Sales    0\n",
            "dtype: int64\n",
            "\n",
            "Index([], dtype='object')\n",
            "      Net Quantity  Gross Sales  Discounts  Returns  Total Net Sales\n",
            "0               34      14935.0    -594.00 -1609.00         12732.00\n",
            "1               13       3744.0    -316.80     0.00          3427.20\n",
            "2               12       3825.0    -201.60  -288.00          3335.40\n",
            "3               17       3035.0     -63.25     0.00          2971.75\n",
            "4               47       2696.8     -44.16     0.00          2652.64\n",
            "...            ...          ...        ...      ...              ...\n",
            "1770             0         28.0      -2.81   -25.19             0.00\n",
            "1771             0         28.0       0.00   -28.00             0.00\n",
            "1772             0        116.0     -23.20   -92.80             0.00\n",
            "1773             0         16.5       0.00   -16.50             0.00\n",
            "1774            -1          0.0       0.00  -106.25          -106.25\n",
            "\n",
            "[1775 rows x 5 columns]\n"
          ]
        },
        {
          "output_type": "stream",
          "name": "stderr",
          "text": [
            "<ipython-input-8-f0dedf764e35>:10: DeprecationWarning: The truth value of an empty array is ambiguous. Returning False, but in future this will result in an error. Use `array.size > 0` to check that an array is not empty.\n",
            "  if b2.isnull():\n"
          ]
        }
      ]
    },
    {
      "cell_type": "code",
      "source": [
        "# Creating new columns from existing columns\n",
        "print (df.shape)\n",
        "a3 = df['Net Quantity'] * df['Gross Sales']\n",
        "df['Quantity Gross Sales'] = a3\n",
        "print (df.shape)\n",
        "print(df.columns)"
      ],
      "metadata": {
        "colab": {
          "base_uri": "https://localhost:8080/"
        },
        "id": "jdgke1IRAkls",
        "outputId": "35162da2-544f-4162-ffad-1529b9501ba2"
      },
      "execution_count": null,
      "outputs": [
        {
          "output_type": "stream",
          "name": "stdout",
          "text": [
            "(1775, 5)\n",
            "(1775, 6)\n",
            "Index(['Net Quantity', 'Gross Sales', 'Discounts', 'Returns',\n",
            "       'Total Net Sales', 'Quantity Gross Sales'],\n",
            "      dtype='object')\n"
          ]
        }
      ]
    },
    {
      "cell_type": "code",
      "source": [
        "# Dropping unwanted columns\n",
        "df = df.drop([\"Quantity Gross Sales\"], axis=1) \n",
        "print (df.shape)"
      ],
      "metadata": {
        "colab": {
          "base_uri": "https://localhost:8080/"
        },
        "id": "3cRa2zNcDBa-",
        "outputId": "e8882cca-3d5f-4d37-d371-6c221cc1346b"
      },
      "execution_count": null,
      "outputs": [
        {
          "output_type": "stream",
          "name": "stdout",
          "text": [
            "(1775, 5)\n"
          ]
        }
      ]
    },
    {
      "cell_type": "code",
      "source": [],
      "metadata": {
        "id": "qRZwDHWRDBOz"
      },
      "execution_count": null,
      "outputs": []
    },
    {
      "cell_type": "markdown",
      "source": [
        "**Outliers Removal using scipy**\n",
        "\n"
      ],
      "metadata": {
        "id": "FaZM2fB6bT9b"
      }
    },
    {
      "cell_type": "code",
      "source": [
        "import pylab\n",
        "import numpy as np\n",
        "import matplotlib._pylab_helpers\n",
        "from scipy import stats"
      ],
      "metadata": {
        "id": "CvxGPAUYba7r"
      },
      "execution_count": null,
      "outputs": []
    },
    {
      "cell_type": "code",
      "source": [
        "# Finding outlier in data\n",
        "for i in range(len(df.columns)):\n",
        "    pylab.figure()\n",
        "    pylab.boxplot(df[df.columns[i]])\n",
        "    #pylab.violinplot(df[df.columns[i]])\n",
        "    pylab.title(df[df.columns[i]].name)"
      ],
      "metadata": {
        "id": "TgyjLza3cOu4",
        "colab": {
          "base_uri": "https://localhost:8080/",
          "height": 1000
        },
        "outputId": "cf940e35-eedc-483e-fd82-56d4df690216"
      },
      "execution_count": null,
      "outputs": [
        {
          "output_type": "display_data",
          "data": {
            "text/plain": [
              "<Figure size 640x480 with 1 Axes>"
            ],
            "image/png": "[encoded data removed]"
          },
          "metadata": {}
        },
        {
          "output_type": "display_data",
          "data": {
            "text/plain": [
              "<Figure size 640x480 with 1 Axes>"
            ],
            "image/png": "[encoded data removed]"
          },
          "metadata": {}
        },
        {
          "output_type": "display_data",
          "data": {
            "text/plain": [
              "<Figure size 640x480 with 1 Axes>"
            ],
            "image/png": "[encoded data removed]"
          },
          "metadata": {}
        },
        {
          "output_type": "display_data",
          "data": {
            "text/plain": [
              "<Figure size 640x480 with 1 Axes>"
            ],
            "image/png": "[encoded data removed]"
          },
          "metadata": {}
        },
        {
          "output_type": "display_data",
          "data": {
            "text/plain": [
              "<Figure size 640x480 with 1 Axes>"
            ],
            "image/png": "[encoded data removed]"
          },
          "metadata": {}
        }
      ]
    },
    {
      "cell_type": "code",
      "source": [
        "# Removing outliers\n",
        "z = np.abs(stats.zscore(df))\n",
        "print(z)\n",
        "print(np.where(z > 3)) # 3 is threshold (Set a threshold for outlier detection)\n",
        "value = z.iloc[0, 3] # Retrieve a value from outlier by specifying the row position(0) and column position (3)\n",
        "print(\"value:\", value)\n",
        "df1 = df[(z < 3).all(axis=1)]\n",
        "print (\"Before removing outliers, Data Frame shpae:\", df.shape)\n",
        "print (\"After removing outliers, Data Frame shpae:\", df1.shape)"
      ],
      "metadata": {
        "colab": {
          "base_uri": "https://localhost:8080/"
        },
        "id": "nn8CBnbKfX4T",
        "outputId": "42c7340c-a0be-428a-8027-450cf7bdd6da"
      },
      "execution_count": null,
      "outputs": [
        {
          "output_type": "stream",
          "name": "stdout",
          "text": [
            "      Net Quantity  Gross Sales  Discounts    Returns  Total Net Sales\n",
            "0         4.852712    31.705947  28.121967  34.381987        30.268136\n",
            "1         1.488039     7.626317  14.857303   0.115465         7.816107\n",
            "2         1.327816     7.800604   9.344715   6.059343         7.594598\n",
            "3         2.128929     6.100764   2.724346   0.115465         6.717129\n",
            "4         6.935605     5.373061   1.810846   0.115465         5.947132\n",
            "...            ...          ...        ...        ...              ...\n",
            "1770      0.594854     0.369385   0.167848   0.424616         0.453559\n",
            "1771      0.594854     0.369385   0.302313   0.484863         0.453559\n",
            "1772      0.594854     0.180036   0.807861   1.874195         0.453559\n",
            "1773      0.594854     0.394130   0.302313   0.238300         0.453559\n",
            "1774      0.755077     0.429633   0.302313   2.162567         0.709935\n",
            "\n",
            "[1775 rows x 5 columns]\n",
            "(array([   0,    0,    0,    0,    0,    1,    1,    1,    2,    2,    2,\n",
            "          2,    3,    3,    4,    4,    4,    5,    5,    6,    6,    7,\n",
            "          7,    7,    8,    8,    8,    9,    9,   10,   10,   10,   11,\n",
            "         11,   12,   12,   12,   13,   13,   14,   14,   15,   15,   16,\n",
            "         17,   17,   17,   18,   20,   22,   23,   24,   25,   25,   28,\n",
            "         29,   31,   37,   40,   42,   45,   46,   47,   48,   50,   55,\n",
            "         57,   58,   60,   61,   69,   73,   89,   90,  100,  102,  105,\n",
            "        113,  120,  147,  161,  164,  169,  173,  252,  264,  392,  407,\n",
            "       1180, 1766, 1769]), array([0, 1, 2, 3, 4, 1, 2, 4, 1, 2, 3, 4, 1, 4, 0, 1, 4, 1, 4, 1, 4, 0,\n",
            "       1, 4, 1, 2, 4, 1, 4, 0, 1, 4, 1, 4, 1, 2, 4, 1, 4, 0, 4, 0, 4, 4,\n",
            "       0, 2, 4, 4, 2, 0, 0, 0, 1, 3, 0, 0, 2, 0, 3, 2, 3, 2, 0, 3, 2, 0,\n",
            "       2, 3, 2, 0, 2, 3, 0, 0, 3, 0, 0, 0, 2, 0, 0, 0, 3, 0, 0, 2, 3, 3,\n",
            "       3, 3, 3]))\n",
            "value: 34.381986979069076\n",
            "Before removing outliers, Data Frame shpae: (1775, 5)\n",
            "After removing outliers, Data Frame shpae: (1714, 5)\n"
          ]
        }
      ]
    },
    {
      "cell_type": "markdown",
      "source": [
        "**Simple python code for Outliers Removal**"
      ],
      "metadata": {
        "id": "IToZ3bssqhvC"
      }
    },
    {
      "cell_type": "code",
      "source": [
        "import pandas as pd\n",
        "\n",
        "# Calculate z-scores for each column\n",
        "z_scores = (df - df.mean()) / df.std()\n",
        "\n",
        "# Set the threshold for outliers (e.g., z-score > 3)\n",
        "threshold = 3\n",
        "\n",
        "# Filter out rows with any column exceeding the threshold\n",
        "cleaned_df = df[(z_scores < threshold).all(axis=1)]\n",
        "\n",
        "print(cleaned_df)\n",
        "print (\"Before removing outliers, Data Frame shpae:\", df.shape)\n",
        "print (\"After removing outliers, Data Frame shpae:\", cleaned_df.shape)\n"
      ],
      "metadata": {
        "colab": {
          "base_uri": "https://localhost:8080/"
        },
        "id": "N24KdFCLpaU8",
        "outputId": "8a4dabf3-6397-4750-e48e-38e37fe9b527"
      },
      "execution_count": null,
      "outputs": [
        {
          "output_type": "stream",
          "name": "stdout",
          "text": [
            "      Net Quantity  Gross Sales  Discounts  Returns  Total Net Sales\n",
            "19               5       1467.0     -57.60     0.00          1409.40\n",
            "20               9       1466.0     -75.89     0.00          1390.11\n",
            "21              11       1375.0     -12.50     0.00          1362.50\n",
            "26              15       1260.0       0.00     0.00          1260.00\n",
            "27               9       1315.0     -57.50     0.00          1257.50\n",
            "...            ...          ...        ...      ...              ...\n",
            "1770             0         28.0      -2.81   -25.19             0.00\n",
            "1771             0         28.0       0.00   -28.00             0.00\n",
            "1772             0        116.0     -23.20   -92.80             0.00\n",
            "1773             0         16.5       0.00   -16.50             0.00\n",
            "1774            -1          0.0       0.00  -106.25          -106.25\n",
            "\n",
            "[1736 rows x 5 columns]\n",
            "Before removing outliers, Data Frame shpae: (1775, 5)\n",
            "After removing outliers, Data Frame shpae: (1736, 5)\n"
          ]
        }
      ]
    },
    {
      "cell_type": "markdown",
      "source": [
        "**Feature Selection**"
      ],
      "metadata": {
        "id": "uLMC1k2oagB5"
      }
    },
    {
      "cell_type": "code",
      "source": [
        "# 1.Correlation-based Feature Selection\n",
        "import pandas as pd\n",
        "\n",
        "# Load the dataset into a DataFrame\n",
        "df = pd.read_csv('business.retailsales.csv')\n",
        "\n",
        "# Calculate the correlation matrix\n",
        "corr_matrix = df.corr(numeric_only=True)\n",
        "print(corr_matrix)\n",
        "\n",
        "# Select features with a correlation threshold\n",
        "threshold = 0.5\n",
        "selected_features = []\n",
        "for col in corr_matrix:\n",
        "    if abs(corr_matrix[col].mean()) > threshold:\n",
        "        selected_features.append(col)\n",
        "\n",
        "print(\"\\nselected_features: \", selected_features)\n",
        "# Create a new DataFrame with selected features\n",
        "df_selected = df[selected_features]"
      ],
      "metadata": {
        "colab": {
          "base_uri": "https://localhost:8080/"
        },
        "id": "DJjoCzlTajWG",
        "outputId": "b2b5c9bb-7d1b-4046-8fa0-5dce50969b6e"
      },
      "execution_count": null,
      "outputs": [
        {
          "output_type": "stream",
          "name": "stdout",
          "text": [
            "                 Net Quantity  Gross Sales  Discounts   Returns  \\\n",
            "Net Quantity         1.000000     0.467464  -0.318734 -0.132924   \n",
            "Gross Sales          0.467464     1.000000  -0.852152 -0.725444   \n",
            "Discounts           -0.318734    -0.852152   1.000000  0.590271   \n",
            "Returns             -0.132924    -0.725444   0.590271  1.000000   \n",
            "Total Net Sales      0.493191     0.996805  -0.838764 -0.671219   \n",
            "\n",
            "                 Total Net Sales  \n",
            "Net Quantity            0.493191  \n",
            "Gross Sales             0.996805  \n",
            "Discounts              -0.838764  \n",
            "Returns                -0.671219  \n",
            "Total Net Sales         1.000000  \n",
            "\n",
            "selected_features:  []\n"
          ]
        }
      ]
    },
    {
      "cell_type": "code",
      "source": [
        "# 2.SelectKBest (Univariate Feature Selection)\n",
        "from sklearn.feature_selection import SelectKBest, f_classif\n",
        "from sklearn.preprocessing import LabelEncoder\n",
        "\n",
        "# Load the dataset into a DataFrame\n",
        "df = pd.read_csv('business.retailsales.csv')"
      ],
      "metadata": {
        "id": "VCq6rpsTMTt2"
      },
      "execution_count": null,
      "outputs": []
    },
    {
      "cell_type": "code",
      "source": [
        "df.dtypes"
      ],
      "metadata": {
        "colab": {
          "base_uri": "https://localhost:8080/"
        },
        "id": "cmXyyzQLMUjg",
        "outputId": "b00c0b9b-e6b0-460f-ec89-277321cc9b4d"
      },
      "execution_count": null,
      "outputs": [
        {
          "output_type": "execute_result",
          "data": {
            "text/plain": [
              "Product Type        object\n",
              "Net Quantity         int64\n",
              "Gross Sales        float64\n",
              "Discounts          float64\n",
              "Returns            float64\n",
              "Total Net Sales    float64\n",
              "dtype: object"
            ]
          },
          "metadata": {},
          "execution_count": 17
        }
      ]
    },
    {
      "cell_type": "code",
      "source": [
        "enc = LabelEncoder()"
      ],
      "metadata": {
        "id": "fchNWQQuMlaS"
      },
      "execution_count": null,
      "outputs": []
    },
    {
      "cell_type": "code",
      "source": [
        "df['Product Type'] = enc.fit_transform(df['Product Type'])"
      ],
      "metadata": {
        "id": "XZbqUCt9Mo45"
      },
      "execution_count": null,
      "outputs": []
    },
    {
      "cell_type": "code",
      "source": [
        "# Separate the features (X) and the target variable (y)\n",
        "X = df.drop('Gross Sales', axis=1)\n",
        "y = df['Gross Sales']"
      ],
      "metadata": {
        "id": "A9mCs8ceMo86"
      },
      "execution_count": null,
      "outputs": []
    },
    {
      "cell_type": "code",
      "source": [
        "# Apply SelectKBest with ANOVA F-value scoring\n",
        "k = 5\n",
        "selector = SelectKBest(score_func=f_classif, k=k)\n",
        "X_selected = selector.fit_transform(X, y)"
      ],
      "metadata": {
        "id": "n_6bCF0gM_8W"
      },
      "execution_count": null,
      "outputs": []
    },
    {
      "cell_type": "code",
      "source": [
        "X_selected"
      ],
      "metadata": {
        "colab": {
          "base_uri": "https://localhost:8080/"
        },
        "id": "WHtCMg6eNChg",
        "outputId": "bdd90fb2-334e-4809-ad3e-8d9b35a11022"
      },
      "execution_count": null,
      "outputs": [
        {
          "output_type": "execute_result",
          "data": {
            "text/plain": [
              "array([[ 1.0000e+00,  3.4000e+01, -5.9400e+02, -1.6090e+03,  1.2732e+04],\n",
              "       [ 2.0000e+00,  1.3000e+01, -3.1680e+02,  0.0000e+00,  3.4272e+03],\n",
              "       [ 2.0000e+00,  1.2000e+01, -2.0160e+02, -2.8800e+02,  3.3354e+03],\n",
              "       ...,\n",
              "       [ 2.0000e+00,  0.0000e+00, -2.3200e+01, -9.2800e+01,  0.0000e+00],\n",
              "       [ 1.1000e+01,  0.0000e+00,  0.0000e+00, -1.6500e+01,  0.0000e+00],\n",
              "       [ 1.1000e+01, -1.0000e+00,  0.0000e+00, -1.0625e+02, -1.0625e+02]])"
            ]
          },
          "metadata": {},
          "execution_count": 22
        }
      ]
    },
    {
      "cell_type": "code",
      "source": [
        "# Get the indices of the selected features\n",
        "selected_indices = selector.get_support(indices=True)\n",
        "\n",
        "# Create a new DataFrame with selected features\n",
        "df_selected = df.iloc[:, selected_indices]\n",
        "\n",
        "df_selected"
      ],
      "metadata": {
        "colab": {
          "base_uri": "https://localhost:8080/",
          "height": 423
        },
        "id": "mOdUZEHXNqa7",
        "outputId": "f34b5c6c-a1fd-45a1-d9c9-7b769afbaae2"
      },
      "execution_count": null,
      "outputs": [
        {
          "output_type": "execute_result",
          "data": {
            "text/plain": [
              "      Product Type  Net Quantity  Gross Sales  Discounts  Returns\n",
              "0                1            34      14935.0    -594.00 -1609.00\n",
              "1                2            13       3744.0    -316.80     0.00\n",
              "2                2            12       3825.0    -201.60  -288.00\n",
              "3                2            17       3035.0     -63.25     0.00\n",
              "4                1            47       2696.8     -44.16     0.00\n",
              "...            ...           ...          ...        ...      ...\n",
              "1770            11             0         28.0      -2.81   -25.19\n",
              "1771             9             0         28.0       0.00   -28.00\n",
              "1772             2             0        116.0     -23.20   -92.80\n",
              "1773            11             0         16.5       0.00   -16.50\n",
              "1774            11            -1          0.0       0.00  -106.25\n",
              "\n",
              "[1775 rows x 5 columns]"
            ],
            "text/html": [
              "\n",
              "  <div id=\"df-c4fa3a2c-64a4-46b6-a7f4-8d9c26542df1\">\n",
              "    <div class=\"colab-df-container\">\n",
              "      <div>\n",
              "<style scoped>\n",
              "    .dataframe tbody tr th:only-of-type {\n",
              "        vertical-align: middle;\n",
              "    }\n",
              "\n",
              "    .dataframe tbody tr th {\n",
              "        vertical-align: top;\n",
              "    }\n",
              "\n",
              "    .dataframe thead th {\n",
              "        text-align: right;\n",
              "    }\n",
              "</style>\n",
              "<table border=\"1\" class=\"dataframe\">\n",
              "  <thead>\n",
              "    <tr style=\"text-align: right;\">\n",
              "      <th></th>\n",
              "      <th>Product Type</th>\n",
              "      <th>Net Quantity</th>\n",
              "      <th>Gross Sales</th>\n",
              "      <th>Discounts</th>\n",
              "      <th>Returns</th>\n",
              "    </tr>\n",
              "  </thead>\n",
              "  <tbody>\n",
              "    <tr>\n",
              "      <th>0</th>\n",
              "      <td>1</td>\n",
              "      <td>34</td>\n",
              "      <td>14935.0</td>\n",
              "      <td>-594.00</td>\n",
              "      <td>-1609.00</td>\n",
              "    </tr>\n",
              "    <tr>\n",
              "      <th>1</th>\n",
              "      <td>2</td>\n",
              "      <td>13</td>\n",
              "      <td>3744.0</td>\n",
              "      <td>-316.80</td>\n",
              "      <td>0.00</td>\n",
              "    </tr>\n",
              "    <tr>\n",
              "      <th>2</th>\n",
              "      <td>2</td>\n",
              "      <td>12</td>\n",
              "      <td>3825.0</td>\n",
              "      <td>-201.60</td>\n",
              "      <td>-288.00</td>\n",
              "    </tr>\n",
              "    <tr>\n",
              "      <th>3</th>\n",
              "      <td>2</td>\n",
              "      <td>17</td>\n",
              "      <td>3035.0</td>\n",
              "      <td>-63.25</td>\n",
              "      <td>0.00</td>\n",
              "    </tr>\n",
              "    <tr>\n",
              "      <th>4</th>\n",
              "      <td>1</td>\n",
              "      <td>47</td>\n",
              "      <td>2696.8</td>\n",
              "      <td>-44.16</td>\n",
              "      <td>0.00</td>\n",
              "    </tr>\n",
              "    <tr>\n",
              "      <th>...</th>\n",
              "      <td>...</td>\n",
              "      <td>...</td>\n",
              "      <td>...</td>\n",
              "      <td>...</td>\n",
              "      <td>...</td>\n",
              "    </tr>\n",
              "    <tr>\n",
              "      <th>1770</th>\n",
              "      <td>11</td>\n",
              "      <td>0</td>\n",
              "      <td>28.0</td>\n",
              "      <td>-2.81</td>\n",
              "      <td>-25.19</td>\n",
              "    </tr>\n",
              "    <tr>\n",
              "      <th>1771</th>\n",
              "      <td>9</td>\n",
              "      <td>0</td>\n",
              "      <td>28.0</td>\n",
              "      <td>0.00</td>\n",
              "      <td>-28.00</td>\n",
              "    </tr>\n",
              "    <tr>\n",
              "      <th>1772</th>\n",
              "      <td>2</td>\n",
              "      <td>0</td>\n",
              "      <td>116.0</td>\n",
              "      <td>-23.20</td>\n",
              "      <td>-92.80</td>\n",
              "    </tr>\n",
              "    <tr>\n",
              "      <th>1773</th>\n",
              "      <td>11</td>\n",
              "      <td>0</td>\n",
              "      <td>16.5</td>\n",
              "      <td>0.00</td>\n",
              "      <td>-16.50</td>\n",
              "    </tr>\n",
              "    <tr>\n",
              "      <th>1774</th>\n",
              "      <td>11</td>\n",
              "      <td>-1</td>\n",
              "      <td>0.0</td>\n",
              "      <td>0.00</td>\n",
              "      <td>-106.25</td>\n",
              "    </tr>\n",
              "  </tbody>\n",
              "</table>\n",
              "<p>1775 rows × 5 columns</p>\n",
              "</div>\n",
              "      <button class=\"colab-df-convert\" onclick=\"convertToInteractive('df-c4fa3a2c-64a4-46b6-a7f4-8d9c26542df1')\"\n",
              "              title=\"Convert this dataframe to an interactive table.\"\n",
              "              style=\"display:none;\">\n",
              "        \n",
              "  <svg xmlns=\"http://www.w3.org/2000/svg\" height=\"24px\"viewBox=\"0 0 24 24\"\n",
              "       width=\"24px\">\n",
              "    <path d=\"M0 0h24v24H0V0z\" fill=\"none\"/>\n",
              "    <path d=\"M18.56 5.44l.94 2.06.94-2.06 2.06-.94-2.06-.94-.94-2.06-.94 2.06-2.06.94zm-11 1L8.5 8.5l.94-2.06 2.06-.94-2.06-.94L8.5 2.5l-.94 2.06-2.06.94zm10 10l.94 2.06.94-2.06 2.06-.94-2.06-.94-.94-2.06-.94 2.06-2.06.94z\"/><path d=\"M17.41 7.96l-1.37-1.37c-.4-.4-.92-.59-1.43-.59-.52 0-1.04.2-1.43.59L10.3 9.45l-7.72 7.72c-.78.78-.78 2.05 0 2.83L4 21.41c.39.39.9.59 1.41.59.51 0 1.02-.2 1.41-.59l7.78-7.78 2.81-2.81c.8-.78.8-2.07 0-2.86zM5.41 20L4 18.59l7.72-7.72 1.47 1.35L5.41 20z\"/>\n",
              "  </svg>\n",
              "      </button>\n",
              "      \n",
              "  <style>\n",
              "    .colab-df-container {\n",
              "      display:flex;\n",
              "      flex-wrap:wrap;\n",
              "      gap: 12px;\n",
              "    }\n",
              "\n",
              "    .colab-df-convert {\n",
              "      background-color: #E8F0FE;\n",
              "      border: none;\n",
              "      border-radius: 50%;\n",
              "      cursor: pointer;\n",
              "      display: none;\n",
              "      fill: #1967D2;\n",
              "      height: 32px;\n",
              "      padding: 0 0 0 0;\n",
              "      width: 32px;\n",
              "    }\n",
              "\n",
              "    .colab-df-convert:hover {\n",
              "      background-color: #E2EBFA;\n",
              "      box-shadow: 0px 1px 2px rgba(60, 64, 67, 0.3), 0px 1px 3px 1px rgba(60, 64, 67, 0.15);\n",
              "      fill: #174EA6;\n",
              "    }\n",
              "\n",
              "    [theme=dark] .colab-df-convert {\n",
              "      background-color: #3B4455;\n",
              "      fill: #D2E3FC;\n",
              "    }\n",
              "\n",
              "    [theme=dark] .colab-df-convert:hover {\n",
              "      background-color: #434B5C;\n",
              "      box-shadow: 0px 1px 3px 1px rgba(0, 0, 0, 0.15);\n",
              "      filter: drop-shadow(0px 1px 2px rgba(0, 0, 0, 0.3));\n",
              "      fill: #FFFFFF;\n",
              "    }\n",
              "  </style>\n",
              "\n",
              "      <script>\n",
              "        const buttonEl =\n",
              "          document.querySelector('#df-c4fa3a2c-64a4-46b6-a7f4-8d9c26542df1 button.colab-df-convert');\n",
              "        buttonEl.style.display =\n",
              "          google.colab.kernel.accessAllowed ? 'block' : 'none';\n",
              "\n",
              "        async function convertToInteractive(key) {\n",
              "          const element = document.querySelector('#df-c4fa3a2c-64a4-46b6-a7f4-8d9c26542df1');\n",
              "          const dataTable =\n",
              "            await google.colab.kernel.invokeFunction('convertToInteractive',\n",
              "                                                     [key], {});\n",
              "          if (!dataTable) return;\n",
              "\n",
              "          const docLinkHtml = 'Like what you see? Visit the ' +\n",
              "            '<a target=\"_blank\" href=https://colab.research.google.com/notebooks/data_table.ipynb>data table notebook</a>'\n",
              "            + ' to learn more about interactive tables.';\n",
              "          element.innerHTML = '';\n",
              "          dataTable['output_type'] = 'display_data';\n",
              "          await google.colab.output.renderOutput(dataTable, element);\n",
              "          const docLink = document.createElement('div');\n",
              "          docLink.innerHTML = docLinkHtml;\n",
              "          element.appendChild(docLink);\n",
              "        }\n",
              "      </script>\n",
              "    </div>\n",
              "  </div>\n",
              "  "
            ]
          },
          "metadata": {},
          "execution_count": 23
        }
      ]
    },
    {
      "cell_type": "markdown",
      "source": [
        "**Feature selection for another data set**"
      ],
      "metadata": {
        "id": "NAiuDlU5KX7G"
      }
    },
    {
      "cell_type": "code",
      "source": [
        "import pandas as pd\n",
        "import matplotlib.pyplot as plt\n",
        "import numpy\n",
        "from sklearn.linear_model import LinearRegression\n",
        "from sklearn.model_selection import train_test_split,cross_val_score\n",
        "from sklearn.metrics import mean_squared_error\n",
        "from math import sqrt\n",
        "from sklearn.feature_selection import RFE\n",
        "from sklearn.datasets import make_friedman1\n",
        "\n",
        "df = pd.read_csv('./correlation_input_data.csv')\n",
        "\n",
        "# Dropping all process parameters\n",
        "df = df.drop([\"A\",\"B\", \"C\", \"D\", \"E\"], axis=1) \n",
        "\n",
        "#finding correlation between manipulated & disturbance variables\n",
        "correlations = df.corr()\n",
        "correlations = correlations.round(2)\n",
        "correlations.to_csv('11_MV_DV_correlation.csv',index=False)\n",
        "fig = plt.figure()\n",
        "g = fig.add_subplot(111)\n",
        "cax = g.matshow(correlations, vmin=-1, vmax=1)\n",
        "fig.colorbar(cax)\n",
        "ticks = numpy.arange(0,21,1)\n",
        "g.set_xticks(ticks)\n",
        "g.set_yticks(ticks)\n",
        "g.set_xticklabels(list(df.columns))\n",
        "g.set_yticklabels(list(df.columns))\n",
        "plt.savefig('11_MV_DV_correlation.png')\n",
        "\n",
        "#removing parameters with high correlation \n",
        "upper = correlations.where(numpy.triu(numpy.ones(correlations.shape), k=1).astype(numpy.bool))\n",
        "cols_to_drop = []\n",
        "for i in upper.columns:\n",
        "\tif (any(upper[i] == -1) or any(upper[i] == -0.98) or any(upper[i] == -0.99) or any(upper[i] == 0.98) or any(upper[i] == 0.99) or any(upper[i] == 1)):\n",
        "\t\tcols_to_drop.append(i)\n",
        "df = df.drop(cols_to_drop, axis=1) \n",
        "\n",
        "print (df.shape,df.columns)\n",
        "df.to_csv('./correlation_output_data.csv',index=False)"
      ],
      "metadata": {
        "colab": {
          "base_uri": "https://localhost:8080/",
          "height": 562
        },
        "id": "_krbg9UUIc-9",
        "outputId": "c11dd17f-edc1-4b2e-c3e7-0c46d94bda1b"
      },
      "execution_count": null,
      "outputs": [
        {
          "output_type": "stream",
          "name": "stderr",
          "text": [
            "<ipython-input-24-68d476ebbab9>:32: DeprecationWarning: `np.bool` is a deprecated alias for the builtin `bool`. To silence this warning, use `bool` by itself. Doing this will not modify any behavior and is safe. If you specifically wanted the numpy scalar type, use `np.bool_` here.\n",
            "Deprecated in NumPy 1.20; for more details and guidance: https://numpy.org/devdocs/release/1.20.0-notes.html#deprecations\n",
            "  upper = correlations.where(numpy.triu(numpy.ones(correlations.shape), k=1).astype(numpy.bool))\n"
          ]
        },
        {
          "output_type": "stream",
          "name": "stdout",
          "text": [
            "(20, 18) Index(['F', 'G', 'H', 'J', 'K', 'M', 'N', 'P', 'Q', 'R', 'S', 'T', 'U', 'V',\n",
            "       'W', 'X', 'Y', 'Z'],\n",
            "      dtype='object')\n"
          ]
        },
        {
          "output_type": "display_data",
          "data": {
            "text/plain": [
              "<Figure size 640x480 with 2 Axes>"
            ],
            "image/png": "[encoded data removed]"
          },
          "metadata": {}
        }
      ]
    }
  ]
}