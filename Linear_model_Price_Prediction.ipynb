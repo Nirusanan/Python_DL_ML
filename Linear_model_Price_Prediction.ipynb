{
  "nbformat": 4,
  "nbformat_minor": 0,
  "metadata": {
    "colab": {
      "name": "Linear_model_Price_Prediction.ipynb",
      "provenance": []
    },
    "kernelspec": {
      "name": "python3",
      "display_name": "Python 3"
    },
    "language_info": {
      "name": "python"
    }
  },
  "cells": [
    {
      "cell_type": "code",
      "metadata": {
        "id": "cU8tD6vIVc9E"
      },
      "source": [
        "from torch import nn\n",
        "import torch\n",
        "from torch import tensor"
      ],
      "execution_count": null,
      "outputs": []
    },
    {
      "cell_type": "code",
      "metadata": {
        "id": "TDac_4kHViuZ"
      },
      "source": [
        "# Data\n",
        "x = tensor([[1.0], [2.0], [3.0]])\n",
        "y = tensor([[2.0], [4.0], [6.0]])"
      ],
      "execution_count": null,
      "outputs": []
    },
    {
      "cell_type": "code",
      "metadata": {
        "id": "Vxup2KYJVi7W"
      },
      "source": [
        "class Model(nn.Module):\n",
        "    def __init__(self):\n",
        "        super(Model, self).__init__()\n",
        "        self.linear = torch.nn.Linear(1, 1)  # One in and one out\n",
        "\n",
        "    def forward(self, x):\n",
        "        y_pred = self.linear(x)\n",
        "        return y_pred"
      ],
      "execution_count": null,
      "outputs": []
    },
    {
      "cell_type": "code",
      "metadata": {
        "id": "wf0qU5HjVi9X"
      },
      "source": [
        "model = Model()"
      ],
      "execution_count": null,
      "outputs": []
    },
    {
      "cell_type": "code",
      "metadata": {
        "id": "d3AC_J55Vi_i"
      },
      "source": [
        "# Optimizer and loss\n",
        "criterion = torch.nn.MSELoss(reduction='sum')\n",
        "optimizer = torch.optim.SGD(model.parameters(), lr=0.01)"
      ],
      "execution_count": null,
      "outputs": []
    },
    {
      "cell_type": "code",
      "metadata": {
        "colab": {
          "base_uri": "https://localhost:8080/"
        },
        "id": "1eYjZlyNVjC1",
        "outputId": "d07c670e-9ddf-4984-ac9e-c45521479601"
      },
      "source": [
        "# Train\n",
        "for epoch in range(100):\n",
        "    # 1) Forward pass: Compute predicted y by passing x to the model\n",
        "    y_pred = model(x)\n",
        "\n",
        "    # 2) Compute and print loss\n",
        "    loss = criterion(y_pred, y)\n",
        "    print(f'Epoch: {epoch} | Loss: {loss.item()} ')\n",
        "\n",
        "    # Zero gradients, perform a backward pass, and update the weights.\n",
        "    optimizer.zero_grad()\n",
        "    loss.backward()\n",
        "    optimizer.step()"
      ],
      "execution_count": null,
      "outputs": [
        {
          "output_type": "stream",
          "name": "stdout",
          "text": [
            "Epoch: 0 | Loss: 27.348852157592773 \n",
            "Epoch: 1 | Loss: 12.313880920410156 \n",
            "Epoch: 2 | Loss: 5.618741512298584 \n",
            "Epoch: 3 | Loss: 2.6362876892089844 \n",
            "Epoch: 4 | Loss: 1.306642770767212 \n",
            "Epoch: 5 | Loss: 0.7128117084503174 \n",
            "Epoch: 6 | Loss: 0.44657033681869507 \n",
            "Epoch: 7 | Loss: 0.32618966698646545 \n",
            "Epoch: 8 | Loss: 0.27076879143714905 \n",
            "Epoch: 9 | Loss: 0.2442927360534668 \n",
            "Epoch: 10 | Loss: 0.23072773218154907 \n",
            "Epoch: 11 | Loss: 0.2229360044002533 \n",
            "Epoch: 12 | Loss: 0.2177392840385437 \n",
            "Epoch: 13 | Loss: 0.21372324228286743 \n",
            "Epoch: 14 | Loss: 0.2102566659450531 \n",
            "Epoch: 15 | Loss: 0.20705938339233398 \n",
            "Epoch: 16 | Loss: 0.20400525629520416 \n",
            "Epoch: 17 | Loss: 0.201038658618927 \n",
            "Epoch: 18 | Loss: 0.19813388586044312 \n",
            "Epoch: 19 | Loss: 0.1952795386314392 \n",
            "Epoch: 20 | Loss: 0.19246989488601685 \n",
            "Epoch: 21 | Loss: 0.18970239162445068 \n",
            "Epoch: 22 | Loss: 0.1869754195213318 \n",
            "Epoch: 23 | Loss: 0.18428808450698853 \n",
            "Epoch: 24 | Loss: 0.18163947761058807 \n",
            "Epoch: 25 | Loss: 0.17902904748916626 \n",
            "Epoch: 26 | Loss: 0.1764560043811798 \n",
            "Epoch: 27 | Loss: 0.1739201843738556 \n",
            "Epoch: 28 | Loss: 0.1714206337928772 \n",
            "Epoch: 29 | Loss: 0.16895683109760284 \n",
            "Epoch: 30 | Loss: 0.16652876138687134 \n",
            "Epoch: 31 | Loss: 0.16413551568984985 \n",
            "Epoch: 32 | Loss: 0.16177639365196228 \n",
            "Epoch: 33 | Loss: 0.15945160388946533 \n",
            "Epoch: 34 | Loss: 0.15716002881526947 \n",
            "Epoch: 35 | Loss: 0.15490151941776276 \n",
            "Epoch: 36 | Loss: 0.15267519652843475 \n",
            "Epoch: 37 | Loss: 0.15048106014728546 \n",
            "Epoch: 38 | Loss: 0.14831829071044922 \n",
            "Epoch: 39 | Loss: 0.14618664979934692 \n",
            "Epoch: 40 | Loss: 0.14408594369888306 \n",
            "Epoch: 41 | Loss: 0.1420152187347412 \n",
            "Epoch: 42 | Loss: 0.13997423648834229 \n",
            "Epoch: 43 | Loss: 0.1379624903202057 \n",
            "Epoch: 44 | Loss: 0.1359797865152359 \n",
            "Epoch: 45 | Loss: 0.13402557373046875 \n",
            "Epoch: 46 | Loss: 0.13209934532642365 \n",
            "Epoch: 47 | Loss: 0.13020077347755432 \n",
            "Epoch: 48 | Loss: 0.12832976877689362 \n",
            "Epoch: 49 | Loss: 0.12648533284664154 \n",
            "Epoch: 50 | Loss: 0.124667689204216 \n",
            "Epoch: 51 | Loss: 0.12287602573633194 \n",
            "Epoch: 52 | Loss: 0.12111011147499084 \n",
            "Epoch: 53 | Loss: 0.11936935782432556 \n",
            "Epoch: 54 | Loss: 0.11765387654304504 \n",
            "Epoch: 55 | Loss: 0.11596305668354034 \n",
            "Epoch: 56 | Loss: 0.11429637670516968 \n",
            "Epoch: 57 | Loss: 0.11265391111373901 \n",
            "Epoch: 58 | Loss: 0.11103488504886627 \n",
            "Epoch: 59 | Loss: 0.10943904519081116 \n",
            "Epoch: 60 | Loss: 0.10786624252796173 \n",
            "Epoch: 61 | Loss: 0.10631606727838516 \n",
            "Epoch: 62 | Loss: 0.1047881469130516 \n",
            "Epoch: 63 | Loss: 0.10328216105699539 \n",
            "Epoch: 64 | Loss: 0.1017979085445404 \n",
            "Epoch: 65 | Loss: 0.10033493489027023 \n",
            "Epoch: 66 | Loss: 0.09889272600412369 \n",
            "Epoch: 67 | Loss: 0.09747162461280823 \n",
            "Epoch: 68 | Loss: 0.0960708037018776 \n",
            "Epoch: 69 | Loss: 0.09469026327133179 \n",
            "Epoch: 70 | Loss: 0.09332931041717529 \n",
            "Epoch: 71 | Loss: 0.09198790788650513 \n",
            "Epoch: 72 | Loss: 0.09066589921712875 \n",
            "Epoch: 73 | Loss: 0.0893629938364029 \n",
            "Epoch: 74 | Loss: 0.08807878196239471 \n",
            "Epoch: 75 | Loss: 0.08681292831897736 \n",
            "Epoch: 76 | Loss: 0.08556528389453888 \n",
            "Epoch: 77 | Loss: 0.08433546125888824 \n",
            "Epoch: 78 | Loss: 0.08312346041202545 \n",
            "Epoch: 79 | Loss: 0.08192886412143707 \n",
            "Epoch: 80 | Loss: 0.08075134456157684 \n",
            "Epoch: 81 | Loss: 0.07959086447954178 \n",
            "Epoch: 82 | Loss: 0.07844705134630203 \n",
            "Epoch: 83 | Loss: 0.07731972634792328 \n",
            "Epoch: 84 | Loss: 0.0762084499001503 \n",
            "Epoch: 85 | Loss: 0.07511334121227264 \n",
            "Epoch: 86 | Loss: 0.07403373718261719 \n",
            "Epoch: 87 | Loss: 0.07296967506408691 \n",
            "Epoch: 88 | Loss: 0.07192102819681168 \n",
            "Epoch: 89 | Loss: 0.07088744640350342 \n",
            "Epoch: 90 | Loss: 0.06986863166093826 \n",
            "Epoch: 91 | Loss: 0.06886455416679382 \n",
            "Epoch: 92 | Loss: 0.06787478178739548 \n",
            "Epoch: 93 | Loss: 0.06689941138029099 \n",
            "Epoch: 94 | Loss: 0.06593792140483856 \n",
            "Epoch: 95 | Loss: 0.0649903416633606 \n",
            "Epoch: 96 | Loss: 0.06405630707740784 \n",
            "Epoch: 97 | Loss: 0.06313576549291611 \n",
            "Epoch: 98 | Loss: 0.06222831457853317 \n",
            "Epoch: 99 | Loss: 0.06133408099412918 \n"
          ]
        }
      ]
    },
    {
      "cell_type": "code",
      "metadata": {
        "id": "KCgH2OZ0VjFe"
      },
      "source": [
        "# Test\n",
        "res = model(tensor([[4.0]]))"
      ],
      "execution_count": null,
      "outputs": []
    },
    {
      "cell_type": "code",
      "metadata": {
        "colab": {
          "base_uri": "https://localhost:8080/"
        },
        "id": "AJm_ykthVjJK",
        "outputId": "e65c0afa-da0e-478c-f8d0-a2e648d93d8f"
      },
      "source": [
        "res"
      ],
      "execution_count": null,
      "outputs": [
        {
          "output_type": "execute_result",
          "data": {
            "text/plain": [
              "tensor([[7.7153]], grad_fn=<AddmmBackward0>)"
            ]
          },
          "metadata": {},
          "execution_count": 8
        }
      ]
    },
    {
      "cell_type": "code",
      "metadata": {
        "colab": {
          "base_uri": "https://localhost:8080/"
        },
        "id": "BP0AofvYVjb_",
        "outputId": "0d640921-a876-4447-e22e-2d0521dfa512"
      },
      "source": [
        "model.linear.weight"
      ],
      "execution_count": null,
      "outputs": [
        {
          "output_type": "execute_result",
          "data": {
            "text/plain": [
              "Parameter containing:\n",
              "tensor([[1.8351]], requires_grad=True)"
            ]
          },
          "metadata": {},
          "execution_count": 9
        }
      ]
    },
    {
      "cell_type": "code",
      "metadata": {
        "colab": {
          "base_uri": "https://localhost:8080/"
        },
        "id": "hPBfaYCeVjeM",
        "outputId": "62870280-a859-4c2b-9ead-800fdd3ad0bf"
      },
      "source": [
        "model.linear.bias"
      ],
      "execution_count": null,
      "outputs": [
        {
          "output_type": "execute_result",
          "data": {
            "text/plain": [
              "Parameter containing:\n",
              "tensor([0.3748], requires_grad=True)"
            ]
          },
          "metadata": {},
          "execution_count": 11
        }
      ]
    },
    {
      "cell_type": "code",
      "metadata": {
        "id": "OZJxOPDYVjgL"
      },
      "source": [
        ""
      ],
      "execution_count": null,
      "outputs": []
    },
    {
      "cell_type": "code",
      "metadata": {
        "id": "3hI5ty1sVjj8"
      },
      "source": [
        ""
      ],
      "execution_count": null,
      "outputs": []
    }
  ]
}