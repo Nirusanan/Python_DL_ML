{
  "nbformat": 4,
  "nbformat_minor": 5,
  "metadata": {
    "kernelspec": {
      "display_name": "Python 3",
      "language": "python",
      "name": "python3"
    },
    "language_info": {
      "codemirror_mode": {
        "name": "ipython",
        "version": 3
      },
      "file_extension": ".py",
      "mimetype": "text/x-python",
      "name": "python",
      "nbconvert_exporter": "python",
      "pygments_lexer": "ipython3",
      "version": "3.8.5"
    },
    "colab": {
      "name": "add_sub.ipynb",
      "provenance": []
    }
  },
  "cells": [
    {
      "cell_type": "code",
      "metadata": {
        "id": "bd1fd5d3"
      },
      "source": [
        "from torch import nn\n",
        "import torch\n",
        "from torch import tensor"
      ],
      "id": "bd1fd5d3",
      "execution_count": 11,
      "outputs": []
    },
    {
      "cell_type": "markdown",
      "metadata": {
        "id": "61addc5d"
      },
      "source": [
        "### Dataset"
      ],
      "id": "61addc5d"
    },
    {
      "cell_type": "code",
      "metadata": {
        "id": "2631af8a"
      },
      "source": [
        "x_data = tensor([[1.0,1.0], [2.0,1.0], [3.0,1.0],[4.0,1.0],[5.0,1.0]])\n",
        "y_data = tensor([[2.0,0.0], [3.0,1.0], [4.0,2.0], [5.0,3.0], [6.0,4.0]])"
      ],
      "id": "2631af8a",
      "execution_count": 12,
      "outputs": []
    },
    {
      "cell_type": "markdown",
      "metadata": {
        "id": "110d56d2"
      },
      "source": [
        "### Model"
      ],
      "id": "110d56d2"
    },
    {
      "cell_type": "code",
      "metadata": {
        "id": "4f337a31"
      },
      "source": [
        "class Model(nn.Module):\n",
        "    def __init__(self):\n",
        "        super(Model, self).__init__()\n",
        "        self.linear = torch.nn.Linear(2, 2)  # two in and two out\n",
        "\n",
        "    def forward(self, x):\n",
        "        y_pred = self.linear(x)\n",
        "        return y_pred"
      ],
      "id": "4f337a31",
      "execution_count": 13,
      "outputs": []
    },
    {
      "cell_type": "code",
      "metadata": {
        "id": "3e6cd3aa"
      },
      "source": [
        "model = Model()"
      ],
      "id": "3e6cd3aa",
      "execution_count": 14,
      "outputs": []
    },
    {
      "cell_type": "markdown",
      "metadata": {
        "id": "dece75ea"
      },
      "source": [
        "### Optimizer and loss"
      ],
      "id": "dece75ea"
    },
    {
      "cell_type": "code",
      "metadata": {
        "id": "c8ef628e"
      },
      "source": [
        "criterion = torch.nn.MSELoss(reduction='sum')\n",
        "optimizer = torch.optim.SGD(model.parameters(), lr=0.01)"
      ],
      "id": "c8ef628e",
      "execution_count": 15,
      "outputs": []
    },
    {
      "cell_type": "markdown",
      "metadata": {
        "id": "30f42221"
      },
      "source": [
        "### Train"
      ],
      "id": "30f42221"
    },
    {
      "cell_type": "code",
      "metadata": {
        "scrolled": true,
        "id": "c9c91bbc",
        "colab": {
          "base_uri": "https://localhost:8080/"
        },
        "outputId": "2e9a7aa0-9517-44d2-b156-8c2b971d1989"
      },
      "source": [
        "for epoch in range(100):\n",
        "    # 1) Forward pass: Compute predicted y by passing x to the model\n",
        "    y_pred = model(x_data)\n",
        "\n",
        "    # 2) Compute and print loss\n",
        "    loss = criterion(y_pred, y_data)\n",
        "    print(f'Epoch: {epoch} | Loss: {loss.item()} ')\n",
        "\n",
        "    # Zero gradients, perform a backward pass, and update the weights.\n",
        "    optimizer.zero_grad()\n",
        "    loss.backward()\n",
        "    optimizer.step()\n"
      ],
      "id": "c9c91bbc",
      "execution_count": 16,
      "outputs": [
        {
          "output_type": "stream",
          "name": "stdout",
          "text": [
            "Epoch: 0 | Loss: 96.26226806640625 \n",
            "Epoch: 1 | Loss: 9.751250267028809 \n",
            "Epoch: 2 | Loss: 3.341434955596924 \n",
            "Epoch: 3 | Loss: 2.7156646251678467 \n",
            "Epoch: 4 | Loss: 2.5169408321380615 \n",
            "Epoch: 5 | Loss: 2.3585312366485596 \n",
            "Epoch: 6 | Loss: 2.2119712829589844 \n",
            "Epoch: 7 | Loss: 2.0746543407440186 \n",
            "Epoch: 8 | Loss: 1.945871353149414 \n",
            "Epoch: 9 | Loss: 1.8250830173492432 \n",
            "Epoch: 10 | Loss: 1.7117934226989746 \n",
            "Epoch: 11 | Loss: 1.6055359840393066 \n",
            "Epoch: 12 | Loss: 1.5058740377426147 \n",
            "Epoch: 13 | Loss: 1.4123984575271606 \n",
            "Epoch: 14 | Loss: 1.32472562789917 \n",
            "Epoch: 15 | Loss: 1.2424944639205933 \n",
            "Epoch: 16 | Loss: 1.1653683185577393 \n",
            "Epoch: 17 | Loss: 1.0930289030075073 \n",
            "Epoch: 18 | Loss: 1.025180697441101 \n",
            "Epoch: 19 | Loss: 0.9615435004234314 \n",
            "Epoch: 20 | Loss: 0.9018568992614746 \n",
            "Epoch: 21 | Loss: 0.8458751440048218 \n",
            "Epoch: 22 | Loss: 0.7933681011199951 \n",
            "Epoch: 23 | Loss: 0.7441209554672241 \n",
            "Epoch: 24 | Loss: 0.6979303359985352 \n",
            "Epoch: 25 | Loss: 0.6546071171760559 \n",
            "Epoch: 26 | Loss: 0.6139731407165527 \n",
            "Epoch: 27 | Loss: 0.575861394405365 \n",
            "Epoch: 28 | Loss: 0.5401152968406677 \n",
            "Epoch: 29 | Loss: 0.5065884590148926 \n",
            "Epoch: 30 | Loss: 0.4751424193382263 \n",
            "Epoch: 31 | Loss: 0.4456483721733093 \n",
            "Epoch: 32 | Loss: 0.417985200881958 \n",
            "Epoch: 33 | Loss: 0.3920392394065857 \n",
            "Epoch: 34 | Loss: 0.36770397424697876 \n",
            "Epoch: 35 | Loss: 0.34487923979759216 \n",
            "Epoch: 36 | Loss: 0.3234710097312927 \n",
            "Epoch: 37 | Loss: 0.3033921420574188 \n",
            "Epoch: 38 | Loss: 0.2845591902732849 \n",
            "Epoch: 39 | Loss: 0.266895592212677 \n",
            "Epoch: 40 | Loss: 0.2503284215927124 \n",
            "Epoch: 41 | Loss: 0.23478946089744568 \n",
            "Epoch: 42 | Loss: 0.22021529078483582 \n",
            "Epoch: 43 | Loss: 0.20654550194740295 \n",
            "Epoch: 44 | Loss: 0.1937243938446045 \n",
            "Epoch: 45 | Loss: 0.18169932067394257 \n",
            "Epoch: 46 | Loss: 0.1704205572605133 \n",
            "Epoch: 47 | Loss: 0.15984170138835907 \n",
            "Epoch: 48 | Loss: 0.14991971850395203 \n",
            "Epoch: 49 | Loss: 0.14061369001865387 \n",
            "Epoch: 50 | Loss: 0.13188520073890686 \n",
            "Epoch: 51 | Loss: 0.1236986294388771 \n",
            "Epoch: 52 | Loss: 0.11602002382278442 \n",
            "Epoch: 53 | Loss: 0.1088184267282486 \n",
            "Epoch: 54 | Loss: 0.10206355154514313 \n",
            "Epoch: 55 | Loss: 0.09572811424732208 \n",
            "Epoch: 56 | Loss: 0.08978578448295593 \n",
            "Epoch: 57 | Loss: 0.08421257883310318 \n",
            "Epoch: 58 | Loss: 0.0789850503206253 \n",
            "Epoch: 59 | Loss: 0.07408227771520615 \n",
            "Epoch: 60 | Loss: 0.06948376446962357 \n",
            "Epoch: 61 | Loss: 0.06517057120800018 \n",
            "Epoch: 62 | Loss: 0.06112512946128845 \n",
            "Epoch: 63 | Loss: 0.05733087658882141 \n",
            "Epoch: 64 | Loss: 0.053772132843732834 \n",
            "Epoch: 65 | Loss: 0.05043423920869827 \n",
            "Epoch: 66 | Loss: 0.047303687781095505 \n",
            "Epoch: 67 | Loss: 0.04436738044023514 \n",
            "Epoch: 68 | Loss: 0.04161327704787254 \n",
            "Epoch: 69 | Loss: 0.03903023153543472 \n",
            "Epoch: 70 | Loss: 0.03660740703344345 \n",
            "Epoch: 71 | Loss: 0.03433503210544586 \n",
            "Epoch: 72 | Loss: 0.032203756272792816 \n",
            "Epoch: 73 | Loss: 0.030204737558960915 \n",
            "Epoch: 74 | Loss: 0.02832980453968048 \n",
            "Epoch: 75 | Loss: 0.0265712421387434 \n",
            "Epoch: 76 | Loss: 0.024921853095293045 \n",
            "Epoch: 77 | Loss: 0.023374924436211586 \n",
            "Epoch: 78 | Loss: 0.021923908963799477 \n",
            "Epoch: 79 | Loss: 0.02056303434073925 \n",
            "Epoch: 80 | Loss: 0.019286593422293663 \n",
            "Epoch: 81 | Loss: 0.018089408054947853 \n",
            "Epoch: 82 | Loss: 0.01696651056408882 \n",
            "Epoch: 83 | Loss: 0.015913326293230057 \n",
            "Epoch: 84 | Loss: 0.014925539493560791 \n",
            "Epoch: 85 | Loss: 0.013999017886817455 \n",
            "Epoch: 86 | Loss: 0.013130034320056438 \n",
            "Epoch: 87 | Loss: 0.012315035797655582 \n",
            "Epoch: 88 | Loss: 0.011550587601959705 \n",
            "Epoch: 89 | Loss: 0.010833623819053173 \n",
            "Epoch: 90 | Loss: 0.010161174461245537 \n",
            "Epoch: 91 | Loss: 0.009530388750135899 \n",
            "Epoch: 92 | Loss: 0.008938822895288467 \n",
            "Epoch: 93 | Loss: 0.008383910171687603 \n",
            "Epoch: 94 | Loss: 0.007863521575927734 \n",
            "Epoch: 95 | Loss: 0.007375417742878199 \n",
            "Epoch: 96 | Loss: 0.006917580962181091 \n",
            "Epoch: 97 | Loss: 0.006488169077783823 \n",
            "Epoch: 98 | Loss: 0.006085406988859177 \n",
            "Epoch: 99 | Loss: 0.005707679316401482 \n"
          ]
        }
      ]
    },
    {
      "cell_type": "markdown",
      "metadata": {
        "id": "b7673c97"
      },
      "source": [
        "### Test"
      ],
      "id": "b7673c97"
    },
    {
      "cell_type": "code",
      "metadata": {
        "id": "64a22d0d"
      },
      "source": [
        "res = model(tensor([[7.0,1.0]]))"
      ],
      "id": "64a22d0d",
      "execution_count": 17,
      "outputs": []
    },
    {
      "cell_type": "code",
      "metadata": {
        "id": "7dcc323e",
        "colab": {
          "base_uri": "https://localhost:8080/"
        },
        "outputId": "47020251-0ad2-49b9-a29f-5d90943f7577"
      },
      "source": [
        "res"
      ],
      "id": "7dcc323e",
      "execution_count": 18,
      "outputs": [
        {
          "output_type": "execute_result",
          "data": {
            "text/plain": [
              "tensor([[8.0018, 5.9261]], grad_fn=<AddmmBackward0>)"
            ]
          },
          "metadata": {},
          "execution_count": 18
        }
      ]
    },
    {
      "cell_type": "code",
      "metadata": {
        "id": "1cfdba86",
        "colab": {
          "base_uri": "https://localhost:8080/"
        },
        "outputId": "0c4f7b96-e546-41ed-d641-518efdd45abe"
      },
      "source": [
        "model.linear.weight"
      ],
      "id": "1cfdba86",
      "execution_count": 19,
      "outputs": [
        {
          "output_type": "execute_result",
          "data": {
            "text/plain": [
              "Parameter containing:\n",
              "tensor([[ 1.0005,  0.6790],\n",
              "        [ 0.9785, -0.4029]], requires_grad=True)"
            ]
          },
          "metadata": {},
          "execution_count": 19
        }
      ]
    },
    {
      "cell_type": "code",
      "metadata": {
        "colab": {
          "base_uri": "https://localhost:8080/"
        },
        "id": "S0dLumO7ixW5",
        "outputId": "8015e811-ee7c-4164-deae-cfc684836448"
      },
      "source": [
        "model.linear.bias"
      ],
      "id": "S0dLumO7ixW5",
      "execution_count": 20,
      "outputs": [
        {
          "output_type": "execute_result",
          "data": {
            "text/plain": [
              "Parameter containing:\n",
              "tensor([ 0.3192, -0.5206], requires_grad=True)"
            ]
          },
          "metadata": {},
          "execution_count": 20
        }
      ]
    },
    {
      "cell_type": "code",
      "metadata": {
        "id": "1V0ohdrfixGX"
      },
      "source": [
        ""
      ],
      "id": "1V0ohdrfixGX",
      "execution_count": 20,
      "outputs": []
    }
  ]
}